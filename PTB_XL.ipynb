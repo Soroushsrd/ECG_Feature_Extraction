{
 "cells": [
  {
   "cell_type": "code",
   "execution_count": null,
   "metadata": {
    "collapsed": true
   },
   "outputs": [],
   "source": [
    "import pandas as pd\n",
    "import numpy as np\n",
    "import wfdb\n",
    "import ast\n",
    "\n",
    "def load_raw_data(df, sampling_rate, path):\n",
    "    if sampling_rate == 100:\n",
    "        data = [wfdb.rdsamp(path+f) for f in df.filename_lr]\n",
    "    else:\n",
    "        data = [wfdb.rdsamp(path+f) for f in df.filename_hr]\n",
    "    data = np.array([signal for signal, meta in data])\n",
    "    return data\n",
    "\n",
    "path = 'your path'\n",
    "sampling_rate=500\n",
    "\n",
    "# load and convert annotation data\n",
    "Y = pd.read_csv(path+'ptbxl_database.csv', index_col='ecg_id')\n",
    "Y.scp_codes = Y.scp_codes.apply(lambda x: ast.literal_eval(x))\n",
    "\n",
    "# Load raw signal data--\n",
    "X = load_raw_data(Y, sampling_rate, path)\n",
    "\n",
    "# Load scp_statements.csv for diagnostic aggregation\n",
    "agg_df = pd.read_csv(path+'scp_statements.csv', index_col=0)\n",
    "agg_df = agg_df[agg_df.diagnostic == 1]\n",
    "\n",
    "def aggregate_diagnostic(y_dic):\n",
    "    tmp = []\n",
    "    for key in y_dic.keys():\n",
    "        if key in agg_df.index:\n",
    "            tmp.append(agg_df.loc[key].diagnostic_class)\n",
    "    return list(set(tmp))\n",
    "\n",
    "# Apply diagnostic superclass\n",
    "Y['diagnostic_superclass'] = Y.scp_codes.apply(aggregate_diagnostic)\n"
   ]
  },
  {
   "cell_type": "code",
   "execution_count": null,
   "outputs": [],
   "source": [
    "X[1]\n",
    "print(X.shape)"
   ],
   "metadata": {
    "collapsed": false
   }
  },
  {
   "cell_type": "code",
   "execution_count": null,
   "outputs": [],
   "source": [
    "import matplotlib.pyplot as plt\n",
    "plt.plot(X[1000][:,4])"
   ],
   "metadata": {
    "collapsed": false
   }
  },
  {
   "cell_type": "code",
   "execution_count": null,
   "outputs": [],
   "source": [
    "import numpy as np\n",
    "\n",
    "def combine_12_leads(weights, signal):\n",
    "    \"\"\"\n",
    "    Combine 12-lead signals into a single combined signal based on specified weights for each lead.\n",
    "\n",
    "    :param weights: Dictionary containing weights for each lead.\n",
    "    :param signal: 3D array representing the 12-lead signal.\n",
    "    :return: Combined weighted signal.\n",
    "    \"\"\"\n",
    "    # Calculate the total weight\n",
    "    total_weight = sum(weights.values())\n",
    "\n",
    "    # Initialize combined weighted signal with proper shape\n",
    "    combined_weighted_signal = np.zeros((signal.shape[0], signal.shape[1], 1))\n",
    "\n",
    "    # Calculate the weighted sum of signals across leads using mapping\n",
    "    for i in range(signal.shape[0]):\n",
    "        for lead, weight in weights.items():\n",
    "            # Perform element-wise multiplication and addition to calculate combined signal\n",
    "            combined_weighted_signal[i] += (signal[i, :, lead] * weight).reshape(-1, 1)\n",
    "\n",
    "    # Normalize by dividing by total weight\n",
    "    combined_weighted_signal /= total_weight\n",
    "\n",
    "    print(\"New shape:\", combined_weighted_signal.shape)\n",
    "    return combined_weighted_signal\n",
    "combined_weighted_signal=combine_12_leads(weights = {0: 1, 1: 1, 2: 1, 3: 2, 4: 2, 5: 2, 6: 1, 7: 1, 8: 1, 9: 1, 10: 1, 11: 1},signal=X)"
   ],
   "metadata": {
    "collapsed": false
   }
  },
  {
   "cell_type": "code",
   "execution_count": null,
   "outputs": [],
   "source": [
    "print(combined_weighted_signal[:5])\n",
    "plt.figure(figsize=(30,10))\n",
    "plt.plot(combined_weighted_signal[1000])\n"
   ],
   "metadata": {
    "collapsed": false
   }
  },
  {
   "cell_type": "code",
   "execution_count": null,
   "outputs": [],
   "source": [
    "combined_weighted_signal[1000].shape"
   ],
   "metadata": {
    "collapsed": false
   }
  },
  {
   "cell_type": "code",
   "execution_count": null,
   "outputs": [],
   "source": [
    "\n",
    "def plot_wavelet_analysis(ECG,wavelet,level=3):\n",
    "    \"\"\"\n",
    "    Takes the ECG signal and decomposes it into its CD and CA compositions\n",
    "    in the case level=3, we have CA3,CD3,CD2,CD1. change them if you chose a different level of decomposition\n",
    "    :param ECG: 1D array\n",
    "    :param wavelet: for ECG sym4 is usually chosen.\n",
    "    :param level: usually 3 or 4 is chosen.\n",
    "    :return: plots CD and CA compositions.\n",
    "    \"\"\"\n",
    "    import pywt\n",
    "    coefs=pywt.swt(ECG,wavelet=wavelet,level=level, axis=0,trim_approx=True)\n",
    "    CA3,CD3,CD2,CD1=coefs\n",
    "    coef_list=[CA3,CD3,CD2,CD1]\n",
    "    n=0\n",
    "    for coef in coef_list:\n",
    "        plt.figure(figsize=(30,5))\n",
    "        plt.plot(coef)\n",
    "        plt.xlabel('Amplitude')\n",
    "        plt.ylabel('Time/Samples')\n",
    "        plt.title(f'Coefficient{n}')\n",
    "        plt.show()\n",
    "        n+=1\n",
    "\n",
    "plot_wavelet_analysis(combined_weighted_signal[2000],'sym4',3)"
   ],
   "metadata": {
    "collapsed": false
   }
  },
  {
   "cell_type": "code",
   "execution_count": null,
   "outputs": [],
   "source": [
    "def wavelet_analysis(ECG,wavelet,level=3):\n",
    "    \"\"\"\n",
    "    Based on the ECG signal, wavelet form and level of decompostion, reconstrucs the signal\n",
    "    :param ECG: 1D array\n",
    "    :param wavelet: Usually sym4 is chosen.\n",
    "    :param level: change this according to your needs\n",
    "    :return: reconstructed signal\n",
    "    \"\"\"\n",
    "    import pywt\n",
    "    coefs=pywt.swt(ECG,wavelet=wavelet,level=level, axis=0,trim_approx=True)\n",
    "\n",
    "    # I chose not to consider the coefficients below. you can change this according to your needs\n",
    "\n",
    "    coefs[-1]=np.zeros_like(coefs[-1])\n",
    "    coefs[0]=np.zeros_like(coefs[0])\n",
    "\n",
    "    signal_rec=pywt.iswt(coefs,wavelet=wavelet, axis=0)\n",
    "\n",
    "    return signal_rec\n",
    "signals=wavelet_analysis(combined_weighted_signal[2000],'sym4',3)\n",
    "plt.plot(signals)\n",
    "plt.plot(combined_weighted_signal[2000],'r')"
   ],
   "metadata": {
    "collapsed": false
   }
  },
  {
   "cell_type": "code",
   "execution_count": null,
   "outputs": [],
   "source": [
    "def R_finder(signals):\n",
    "    \"\"\"\n",
    "    Based on the reconstructed signa, finds the R peaks of the ECG signal\n",
    "    :param signals: reconstructed signal/ The original sigan could also be used.\n",
    "    :return: R peak indexes and amplitudes\n",
    "    \"\"\"\n",
    "    from scipy.signal import argrelmax\n",
    "    from scipy.signal import find_peaks\n",
    "\n",
    "    signals_1d = np.squeeze(signals)\n",
    "    y_prime=np.abs(signals_1d)**2\n",
    "    average=y_prime.mean()\n",
    "    R_peaks, properties = find_peaks(signals_1d, height=9*average,distance=75)\n",
    "    peak_indices = argrelmax(properties['peak_heights'])\n",
    "    R_peaks=R_peaks[peak_indices]\n",
    "    peak_values=properties['peak_heights'][peak_indices]\n",
    "\n",
    "    return R_peaks,peak_values\n",
    "\n",
    "# plt.plot(R_peaks,properties, 'r', label='Detected QRS Complexes')\n",
    "# plt.scatter(R_peaks[peak_indices],peak_values)\n",
    "\n",
    "peak_indices,peak_values=R_finder(signals)\n",
    "plt.figure(figsize=(30,10))\n",
    "plt.plot(peak_indices,peak_values, 'r', label='Detected QRS Complexes')\n",
    "plt.xlabel('Time (s)')\n",
    "plt.ylabel('Amplitude')\n",
    "plt.title('ECG Signal with Detected QRS Complexes')\n",
    "plt.legend()\n",
    "plt.grid(True)\n",
    "plt.plot(combined_weighted_signal[1000])\n",
    "plt.show()\n",
    "plt.tight_layout()"
   ],
   "metadata": {
    "collapsed": false
   }
  },
  {
   "cell_type": "code",
   "execution_count": null,
   "outputs": [],
   "source": [
    "def R_plot(signals):\n",
    "    \"\"\"\n",
    "\n",
    "    :param signals: 1D array of a signal\n",
    "    :return: plots the signal and its identified R peaks\n",
    "    \"\"\"\n",
    "    from scipy.signal import argrelmax\n",
    "    from scipy.signal import find_peaks\n",
    "    signals_1d = np.squeeze(signals)\n",
    "    y_prime=np.abs(signals_1d)**2\n",
    "    average=y_prime.mean()\n",
    "\n",
    "    # Height and distance values can be changed based on your needs\n",
    "    R_peaks, properties = find_peaks(signals_1d, height=9*average,distance=75)\n",
    "    peak_indices = argrelmax(properties['peak_heights'])\n",
    "    peak_values=properties['peak_heights'][peak_indices]\n",
    "    plt.figure(figsize=(20,10))\n",
    "    plt.plot(R_peaks,properties['peak_heights'], 'r', label='Detected QRS Complexes')\n",
    "    plt.scatter(R_peaks[peak_indices],peak_values,label='Peaks')\n",
    "    plt.xlabel('Time')\n",
    "    plt.ylabel('Amplitude')\n",
    "    plt.title('ECG Signal with Detected QRS Complexes')\n",
    "    plt.legend()\n",
    "\n",
    "R_plot(signals)\n",
    "\n",
    "\n"
   ],
   "metadata": {
    "collapsed": false
   }
  },
  {
   "cell_type": "code",
   "execution_count": null,
   "outputs": [],
   "source": [
    "def PQRS_extraction(ECG,sampling_rate=500):\n",
    "    \"\"\"\n",
    "\n",
    "    :param ECG: Signal array\n",
    "    :param sampling_rate: based your own data\n",
    "    :return: PQRS indexes and amplitudes based on the ECG provided\n",
    "    \"\"\"\n",
    "    import neurokit2 as nk\n",
    "\n",
    "    # Assuming combined_weighted_signal[2000] contains your ECG signal data\n",
    "    ecg=wavelet_analysis(ECG,'sym4')\n",
    "    # Ensure the ECG signal data is in the correct format (1-dimensional array)\n",
    "    ecg_signal = np.squeeze(ecg)\n",
    "    original_ECG= np.squeeze(ECG)\n",
    "\n",
    "    ecg_info = nk.ecg_process(ecg_signal, sampling_rate=sampling_rate)\n",
    "\n",
    "    # Get the R-peaks indices\n",
    "    r_peaks = ecg_info[1][\"ECG_R_Peaks\"]\n",
    "\n",
    "    r_amplitude=original_ECG[r_peaks]\n",
    "\n",
    "    p_peaks = ecg_info[1][\"ECG_P_Peaks\"]\n",
    "    q_peaks = ecg_info[1][\"ECG_Q_Peaks\"]\n",
    "    s_peaks = ecg_info[1][\"ECG_S_Peaks\"]\n",
    "\n",
    "    valid_p_peaks = [peak for peak in p_peaks if not np.isnan(peak)]\n",
    "    valid_q_peaks = [peak for peak in q_peaks if not np.isnan(peak)]\n",
    "    valid_s_peaks = [peak for peak in s_peaks if not np.isnan(peak)]\n",
    "\n",
    "    # You can also get the amplitudes of the peaks\n",
    "    p_amplitudes = original_ECG[valid_p_peaks]\n",
    "    q_amplitudes = original_ECG[valid_q_peaks]\n",
    "    s_amplitudes = original_ECG[valid_s_peaks]\n",
    "\n",
    "    return r_peaks, r_amplitude,valid_p_peaks,p_amplitudes,valid_q_peaks,q_amplitudes,valid_s_peaks,s_amplitudes\n",
    "s=wavelet_analysis(combined_weighted_signal[1000],'sym4')\n",
    "r_peaks, r_amplitude,valid_p_peaks,p_amplitudes,valid_q_peaks,q_amplitudes,valid_s_peaks,s_amplitudes = PQRS_extraction(s)\n",
    "\n",
    "plt.figure(figsize=(12, 6))\n",
    "plt.plot(s)\n",
    "plt.plot(valid_q_peaks, q_amplitudes, \"ro\")\n",
    "plt.xlabel(\"Samples\")\n",
    "plt.ylabel(\"Amplitude\")\n",
    "plt.title(\"ECG Signal with Detected R-peaks\")\n",
    "plt.grid(True)\n",
    "plt.show()"
   ],
   "metadata": {
    "collapsed": false
   }
  },
  {
   "cell_type": "code",
   "execution_count": null,
   "outputs": [],
   "source": [
    "def HR_counter(ECG,sample_rate=500):\n",
    "    \"\"\"\n",
    "    Counts the heart rate based on the data provided\n",
    "    :param ECG: 1D signal array\n",
    "    :param sample_rate: based on your own data\n",
    "    :return: rounded Heart Rate\n",
    "    \"\"\"\n",
    "    import neurokit2 as nk\n",
    "\n",
    "    # Assuming that youre using sym4 wavelet\n",
    "    ecg=wavelet_analysis(ECG,'sym4')\n",
    "\n",
    "    # Ensure the ECG signal data is in the correct format (1-dimensional array)\n",
    "    ecg_signal = np.squeeze(ecg)\n",
    "\n",
    "    ecg_info = nk.ecg_process(ecg_signal, sampling_rate=sample_rate)\n",
    "\n",
    "    # Get the R-peaks indices\n",
    "    r_peaks = ecg_info[1][\"ECG_R_Peaks\"]\n",
    "    RR_intervals = np.mean(np.diff(r_peaks)/sample_rate)\n",
    "    heart_rate = 60 / RR_intervals  # Convert to beats per minute (BPM)\n",
    "    return round(heart_rate,0)\n",
    "\n",
    "HR_counter(combined_weighted_signal[176])\n"
   ],
   "metadata": {
    "collapsed": false
   }
  },
  {
   "cell_type": "code",
   "execution_count": null,
   "outputs": [],
   "source": [
    "def mean_PQRS_amplitude(ECG,sampling_rate=500):\n",
    "    \"\"\"\n",
    "    based on the signal, extracts and calculates the mean of PQRS amplitudes\n",
    "    :param ECG: 1D signal array\n",
    "    :param sampling_rate: based on your own data\n",
    "    :return: mean values of PQRS peaks\n",
    "    \"\"\"\n",
    "    r_peaks, r_amplitude,valid_p_peaks,p_amplitudes,valid_q_peaks,q_amplitudes,valid_s_peaks,s_amplitudes =PQRS_extraction(ECG,sampling_rate=sampling_rate)\n",
    "    mean_r_peaks=r_amplitude.mean()\n",
    "    mean_p_peaks=p_amplitudes.mean()\n",
    "    mean_q_peaks=q_amplitudes.mean()\n",
    "    mean_s_peaks=s_amplitudes.mean()\n",
    "\n",
    "    return mean_r_peaks,mean_p_peaks,mean_q_peaks,mean_s_peaks\n",
    "mean_PQRS_amplitude(combined_weighted_signal[1000])\n"
   ],
   "metadata": {
    "collapsed": false
   }
  },
  {
   "cell_type": "code",
   "execution_count": null,
   "outputs": [],
   "source": [
    "def wave_duration(ECG,sampling_rate=500):\n",
    "    \"\"\"\n",
    "    calculates the PR segment and Rwave and Pwave durations\n",
    "    :param ECG: 1D signal array\n",
    "    :param sampling_rate: based on your own data\n",
    "    :return: Rwave and Pwave duration and PR segment\n",
    "    \"\"\"\n",
    "    import neurokit2 as nk\n",
    "\n",
    "    # Assuming combined_weighted_signal[2000] contains your ECG signal data\n",
    "    ecg=wavelet_analysis(ECG,'sym4')\n",
    "\n",
    "    # Ensure the ECG signal data is in the correct format (1-dimensional array)\n",
    "    ecg_signal = np.squeeze(ecg)\n",
    "\n",
    "    ecg_info = nk.ecg_process(ecg_signal, sampling_rate=sampling_rate)\n",
    "    # Get the wave onset and offsets\n",
    "    r_onset = ecg_info[1][\"ECG_Q_Peaks\"]\n",
    "    r_offset=ecg_info[1][\"ECG_S_Peaks\"]\n",
    "    p_onset = ecg_info[1][\"ECG_P_Onsets\"]\n",
    "    p_offset=ecg_info[1][\"ECG_P_Offsets\"]\n",
    "\n",
    "    VALID_r_onset=np.array(r_onset)\n",
    "    VALID_r_offset=np.array(r_offset)\n",
    "\n",
    "    # valid_r_onsets = [onset for onset in r_onset if not np.isnan(onset)]\n",
    "    # valid_r_offsets = [offset for offset in r_offset if not np.isnan(offset)]\n",
    "\n",
    "    VALID_p_onset=np.array(p_onset)\n",
    "    VALID_p_offset=np.array(p_offset)\n",
    "\n",
    "    # valid_p_onsets = [onset for onset in p_onset if not np.isnan(onset)]\n",
    "    # valid_p_offsets = [offset for offset in p_offset if not np.isnan(offset)]\n",
    "\n",
    "    pwaves=VALID_p_offset-VALID_p_onset\n",
    "    P_waves=[wave for wave in pwaves if not np.isnan(wave)]\n",
    "\n",
    "\n",
    "    rwaves=VALID_r_offset-VALID_r_onset\n",
    "    R_waves=[wave for wave in rwaves if not np.isnan(wave)]\n",
    "\n",
    "\n",
    "    mean_rwave_duration=np.mean(R_waves)/sampling_rate # in seconds\n",
    "    mean_pwave_duration=np.mean(P_waves)/sampling_rate # in seconds\n",
    "\n",
    "    # Convert lists to numpy arrays to handle nan values\n",
    "    ECG_P_onset_arr = np.array(p_onset)\n",
    "    ECG_Q_Peaks_arr = np.array(r_onset)\n",
    "    Difference = ECG_Q_Peaks_arr - ECG_P_onset_arr\n",
    "\n",
    "    valid_PR_segment=[segment for segment in Difference if not np.isnan(segment)]\n",
    "    mean_PR_segment=np.mean(valid_PR_segment)/sampling_rate\n",
    "\n",
    "\n",
    "    return round(mean_rwave_duration,2), round(mean_pwave_duration,2),round(mean_PR_segment,3)\n",
    "\n",
    "wave_duration(combined_weighted_signal[6])\n"
   ],
   "metadata": {
    "collapsed": false
   }
  },
  {
   "cell_type": "code",
   "execution_count": null,
   "outputs": [],
   "source": [
    "def RR_ratio(ECG,sampling_rate=500):\n",
    "    \"\"\"\n",
    "    calculates the RR ratio which is: RR(i)/RR(i+1)\n",
    "    :param ECG:\n",
    "    :param sampling_rate:\n",
    "    :return: rounded RR_ratio to 2 decimals\n",
    "    \"\"\"\n",
    "    import neurokit2 as nk\n",
    "    # Assuming combined_weighted_signal[2000] contains your ECG signal data\n",
    "    ecg=wavelet_analysis(ECG,'sym4')\n",
    "\n",
    "    # Ensure the ECG signal data is in the correct format (1-dimensional array)\n",
    "    ecg_signal = np.squeeze(ecg)\n",
    "\n",
    "    ecg_info = nk.ecg_process(ecg_signal, sampling_rate=sampling_rate)\n",
    "\n",
    "    # Get the R-peaks indices\n",
    "    r_peaks = ecg_info[1][\"ECG_R_Peaks\"]\n",
    "    RR_intervals = np.diff(r_peaks)/sampling_rate\n",
    "    rr_ratios = []\n",
    "    for i in range(len(RR_intervals) - 1):\n",
    "        rr_ratio = RR_intervals[i] / RR_intervals[i + 1]\n",
    "        rr_ratios.append(rr_ratio)\n",
    "\n",
    "    RR_R = np.mean(rr_ratios)\n",
    "\n",
    "    return round(RR_R,2)\n",
    "\n",
    "RR_ratio(combined_weighted_signal[1000])\n"
   ],
   "metadata": {
    "collapsed": false
   }
  },
  {
   "cell_type": "code",
   "execution_count": null,
   "outputs": [],
   "source": [
    "def extraction(combined_weighted_signal):\n",
    "    \"\"\"\n",
    "\n",
    "    :param combined_weighted_signal: The 1D array of original ECG signal\n",
    "    :return: A data fram of extracted features\n",
    "    \"\"\"\n",
    "    HR_list = []\n",
    "    RR_list = []\n",
    "    R_wave_duration_list = []\n",
    "    P_wave_duration_list = []\n",
    "    PR_interval_list = []\n",
    "    R_peak_list = []\n",
    "    P_peak_list = []\n",
    "    Q_peak_list = []\n",
    "    S_peak_list = []\n",
    "    for item in range(100):\n",
    "        print(item)\n",
    "        signal=combined_weighted_signal[item]\n",
    "        HR=HR_counter(signal)\n",
    "        RR=RR_ratio(signal)\n",
    "        R_wave_duration,P_wave_duration,PR_interval=wave_duration(signal)\n",
    "        R_peak,P_peak,Q_peak,S_peak=mean_PQRS_amplitude(signal)\n",
    "        # Append extracted features to lists\n",
    "        HR_list.append(HR)\n",
    "        RR_list.append(RR)\n",
    "        R_wave_duration_list.append(R_wave_duration)\n",
    "        P_wave_duration_list.append(P_wave_duration)\n",
    "        PR_interval_list.append(PR_interval)\n",
    "        R_peak_list.append(R_peak)\n",
    "        P_peak_list.append(P_peak)\n",
    "        Q_peak_list.append(Q_peak)\n",
    "        S_peak_list.append(S_peak)\n",
    "\n",
    "    # Create a DataFrame from the lists\n",
    "    data = {\n",
    "        'HR': HR_list,\n",
    "        'RR': RR_list,\n",
    "        'R_wave_duration': R_wave_duration_list,\n",
    "        'P_wave_duration': P_wave_duration_list,\n",
    "        'PR_interval': PR_interval_list,\n",
    "        'R_peak': R_peak_list,\n",
    "        'P_peak': P_peak_list,\n",
    "        'Q_peak': Q_peak_list,\n",
    "        'S_peak': S_peak_list\n",
    "    }\n",
    "    df = pd.DataFrame(data)\n",
    "    return df\n",
    "df=extraction(combined_weighted_signal)\n",
    "df.head()"
   ],
   "metadata": {
    "collapsed": false
   }
  },
  {
   "cell_type": "code",
   "execution_count": null,
   "outputs": [],
   "source": [
    "df.describe()"
   ],
   "metadata": {
    "collapsed": false
   }
  },
  {
   "cell_type": "code",
   "execution_count": null,
   "outputs": [],
   "source": [
    "Y.head()"
   ],
   "metadata": {
    "collapsed": false
   }
  },
  {
   "cell_type": "code",
   "execution_count": null,
   "outputs": [],
   "source": [
    "Y['diagnostic_superclass'].head(10)"
   ],
   "metadata": {
    "collapsed": false
   }
  },
  {
   "cell_type": "code",
   "execution_count": null,
   "outputs": [],
   "source": [
    "Y['diagnostic_superclass'] = Y['diagnostic_superclass'].apply(lambda x: str(x)[1:-1])\n",
    "Y['diagnostic_superclass'].head(10)"
   ],
   "metadata": {
    "collapsed": false
   }
  },
  {
   "cell_type": "code",
   "execution_count": null,
   "outputs": [],
   "source": [
    "Y_subset = Y.iloc[:2000].reset_index(drop=True)\n",
    "\n",
    "df['diagnostic_superclass']=Y_subset['diagnostic_superclass']\n",
    "df['weight']=Y_subset['weight']\n",
    "df['sex']=Y_subset['sex']\n",
    "df['age']=Y_subset['age']\n",
    "df['patient_id']=Y_subset['patient_id']\n",
    "df.head(10)\n"
   ],
   "metadata": {
    "collapsed": false
   }
  },
  {
   "cell_type": "code",
   "execution_count": null,
   "outputs": [],
   "source": [
    "import seaborn as sns\n",
    "sns.countplot(df['diagnostic_superclass'])\n",
    "plt.show()\n",
    "df['diagnostic_superclass']=df['diagnostic_superclass'].apply(lambda x: 0 if 'NORM' in x else 1)\n",
    "\n",
    "df['diagnostic_superclass'].hist(legend=True)\n",
    "plt.ylabel('Number of samples')\n",
    "plt.xlabel('Categories')\n",
    "plt.show()\n",
    "df['diagnostic_superclass'].head(10)"
   ],
   "metadata": {
    "collapsed": false
   }
  },
  {
   "cell_type": "code",
   "execution_count": null,
   "outputs": [],
   "source": [
    "df.to_csv('extracted_features.csv', index=False)\n"
   ],
   "metadata": {
    "collapsed": false
   }
  }
 ],
 "metadata": {
  "kernelspec": {
   "display_name": "Python 3",
   "language": "python",
   "name": "python3"
  },
  "language_info": {
   "codemirror_mode": {
    "name": "ipython",
    "version": 2
   },
   "file_extension": ".py",
   "mimetype": "text/x-python",
   "name": "python",
   "nbconvert_exporter": "python",
   "pygments_lexer": "ipython2",
   "version": "2.7.6"
  }
 },
 "nbformat": 4,
 "nbformat_minor": 0
}
