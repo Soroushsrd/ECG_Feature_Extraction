{
 "cells": [
  {
   "cell_type": "code",
   "execution_count": 1,
   "id": "ffe274de",
   "metadata": {
    "_cell_guid": "b1076dfc-b9ad-4769-8c92-a6c4dae69d19",
    "_uuid": "8f2839f25d086af736a60e9eeb907d3b93b6e0e5",
    "execution": {
     "iopub.execute_input": "2024-02-25T07:13:58.849212Z",
     "iopub.status.busy": "2024-02-25T07:13:58.848491Z",
     "iopub.status.idle": "2024-02-25T07:13:59.602202Z",
     "shell.execute_reply": "2024-02-25T07:13:59.601105Z"
    },
    "papermill": {
     "duration": 0.763005,
     "end_time": "2024-02-25T07:13:59.604528",
     "exception": false,
     "start_time": "2024-02-25T07:13:58.841523",
     "status": "completed"
    },
    "tags": []
   },
   "outputs": [
    {
     "name": "stdout",
     "output_type": "stream",
     "text": [
      "/kaggle/input/ecg-waves/k20_extracted_features.csv\n",
      "/kaggle/input/ecg-waves/avf_wavelet_transformed.csv\n"
     ]
    }
   ],
   "source": [
    "import pandas as pd\n",
    "import numpy as pd"
   ]
  },
  {
   "cell_type": "code",
   "execution_count": 2,
   "id": "b0aa787a",
   "metadata": {
    "execution": {
     "iopub.execute_input": "2024-02-25T07:13:59.617354Z",
     "iopub.status.busy": "2024-02-25T07:13:59.616594Z",
     "iopub.status.idle": "2024-02-25T07:14:53.986418Z",
     "shell.execute_reply": "2024-02-25T07:14:53.985106Z"
    },
    "papermill": {
     "duration": 54.379611,
     "end_time": "2024-02-25T07:14:53.990088",
     "exception": false,
     "start_time": "2024-02-25T07:13:59.610477",
     "status": "completed"
    },
    "tags": []
   },
   "outputs": [],
   "source": [
    "aVF1 = pd.read_csv(\"/kaggle/input/ecg-waves/avf_wavelet_transformed.csv\", index_col=False)\n",
    "df=pd.read_csv(\"/kaggle/input/ecg-waves/k20_extracted_features.csv\",index_col=False)\n"
   ]
  },
  {
   "cell_type": "code",
   "execution_count": 3,
   "id": "e2e6b372",
   "metadata": {
    "execution": {
     "iopub.execute_input": "2024-02-25T07:14:54.004083Z",
     "iopub.status.busy": "2024-02-25T07:14:54.003721Z",
     "iopub.status.idle": "2024-02-25T07:14:54.010722Z",
     "shell.execute_reply": "2024-02-25T07:14:54.009821Z"
    },
    "papermill": {
     "duration": 0.016213,
     "end_time": "2024-02-25T07:14:54.013175",
     "exception": false,
     "start_time": "2024-02-25T07:14:53.996962",
     "status": "completed"
    },
    "tags": []
   },
   "outputs": [
    {
     "data": {
      "text/plain": [
       "(20000, 5000)"
      ]
     },
     "execution_count": 3,
     "metadata": {},
     "output_type": "execute_result"
    }
   ],
   "source": [
    "aVF1.shape"
   ]
  },
  {
   "cell_type": "code",
   "execution_count": 4,
   "id": "9b38ca0a",
   "metadata": {
    "execution": {
     "iopub.execute_input": "2024-02-25T07:14:54.025445Z",
     "iopub.status.busy": "2024-02-25T07:14:54.025162Z",
     "iopub.status.idle": "2024-02-25T07:14:54.323914Z",
     "shell.execute_reply": "2024-02-25T07:14:54.322832Z"
    },
    "papermill": {
     "duration": 0.307434,
     "end_time": "2024-02-25T07:14:54.326232",
     "exception": false,
     "start_time": "2024-02-25T07:14:54.018798",
     "status": "completed"
    },
    "tags": []
   },
   "outputs": [
    {
     "data": {
      "text/plain": [
       "(20000, 2000)"
      ]
     },
     "execution_count": 4,
     "metadata": {},
     "output_type": "execute_result"
    }
   ],
   "source": [
    "aVF=aVF1.copy().iloc[:,:2000]\n",
    "aVF.shape"
   ]
  },
  {
   "cell_type": "code",
   "execution_count": 5,
   "id": "0556dafd",
   "metadata": {
    "execution": {
     "iopub.execute_input": "2024-02-25T07:14:54.339533Z",
     "iopub.status.busy": "2024-02-25T07:14:54.338803Z",
     "iopub.status.idle": "2024-02-25T07:14:54.409410Z",
     "shell.execute_reply": "2024-02-25T07:14:54.408376Z"
    },
    "papermill": {
     "duration": 0.079464,
     "end_time": "2024-02-25T07:14:54.411690",
     "exception": false,
     "start_time": "2024-02-25T07:14:54.332226",
     "status": "completed"
    },
    "tags": []
   },
   "outputs": [],
   "source": [
    "combined_df = pd.concat([df, aVF], axis=1)\n"
   ]
  },
  {
   "cell_type": "code",
   "execution_count": 6,
   "id": "3c27c83a",
   "metadata": {
    "execution": {
     "iopub.execute_input": "2024-02-25T07:14:54.424255Z",
     "iopub.status.busy": "2024-02-25T07:14:54.423981Z",
     "iopub.status.idle": "2024-02-25T07:14:54.429529Z",
     "shell.execute_reply": "2024-02-25T07:14:54.428512Z"
    },
    "papermill": {
     "duration": 0.014071,
     "end_time": "2024-02-25T07:14:54.431580",
     "exception": false,
     "start_time": "2024-02-25T07:14:54.417509",
     "status": "completed"
    },
    "tags": []
   },
   "outputs": [
    {
     "data": {
      "text/plain": [
       "(20000, 2017)"
      ]
     },
     "execution_count": 6,
     "metadata": {},
     "output_type": "execute_result"
    }
   ],
   "source": [
    "combined_df.shape"
   ]
  },
  {
   "cell_type": "code",
   "execution_count": 7,
   "id": "995dca5b",
   "metadata": {
    "execution": {
     "iopub.execute_input": "2024-02-25T07:14:54.443955Z",
     "iopub.status.busy": "2024-02-25T07:14:54.443659Z",
     "iopub.status.idle": "2024-02-25T07:14:54.990184Z",
     "shell.execute_reply": "2024-02-25T07:14:54.989265Z"
    },
    "papermill": {
     "duration": 0.55497,
     "end_time": "2024-02-25T07:14:54.992256",
     "exception": false,
     "start_time": "2024-02-25T07:14:54.437286",
     "status": "completed"
    },
    "tags": []
   },
   "outputs": [
    {
     "name": "stdout",
     "output_type": "stream",
     "text": [
      "data base 5 first rows \n",
      "\n"
     ]
    },
    {
     "data": {
      "text/html": [
       "<div>\n",
       "<style scoped>\n",
       "    .dataframe tbody tr th:only-of-type {\n",
       "        vertical-align: middle;\n",
       "    }\n",
       "\n",
       "    .dataframe tbody tr th {\n",
       "        vertical-align: top;\n",
       "    }\n",
       "\n",
       "    .dataframe thead th {\n",
       "        text-align: right;\n",
       "    }\n",
       "</style>\n",
       "<table border=\"1\" class=\"dataframe\">\n",
       "  <thead>\n",
       "    <tr style=\"text-align: right;\">\n",
       "      <th></th>\n",
       "      <th>HR</th>\n",
       "      <th>RR</th>\n",
       "      <th>R_wave_duration</th>\n",
       "      <th>P_wave_duration</th>\n",
       "      <th>T_wave_duration</th>\n",
       "      <th>PR_interval</th>\n",
       "      <th>ST_interval</th>\n",
       "      <th>R_peak</th>\n",
       "      <th>P_peak</th>\n",
       "      <th>Q_peak</th>\n",
       "      <th>...</th>\n",
       "      <th>1990</th>\n",
       "      <th>1991</th>\n",
       "      <th>1992</th>\n",
       "      <th>1993</th>\n",
       "      <th>1994</th>\n",
       "      <th>1995</th>\n",
       "      <th>1996</th>\n",
       "      <th>1997</th>\n",
       "      <th>1998</th>\n",
       "      <th>1999</th>\n",
       "    </tr>\n",
       "  </thead>\n",
       "  <tbody>\n",
       "    <tr>\n",
       "      <th>0</th>\n",
       "      <td>64.0</td>\n",
       "      <td>1.00</td>\n",
       "      <td>0.03</td>\n",
       "      <td>0.02</td>\n",
       "      <td>0.03</td>\n",
       "      <td>0.187</td>\n",
       "      <td>0.061</td>\n",
       "      <td>0.074155</td>\n",
       "      <td>0.001282</td>\n",
       "      <td>-0.050321</td>\n",
       "      <td>...</td>\n",
       "      <td>0.018197</td>\n",
       "      <td>0.024745</td>\n",
       "      <td>0.021644</td>\n",
       "      <td>0.012084</td>\n",
       "      <td>-0.004043</td>\n",
       "      <td>-0.017909</td>\n",
       "      <td>-0.021185</td>\n",
       "      <td>-0.017074</td>\n",
       "      <td>-0.011247</td>\n",
       "      <td>-0.004914</td>\n",
       "    </tr>\n",
       "    <tr>\n",
       "      <th>1</th>\n",
       "      <td>47.0</td>\n",
       "      <td>1.02</td>\n",
       "      <td>0.10</td>\n",
       "      <td>0.03</td>\n",
       "      <td>0.04</td>\n",
       "      <td>0.186</td>\n",
       "      <td>0.020</td>\n",
       "      <td>0.145161</td>\n",
       "      <td>0.001416</td>\n",
       "      <td>-0.056772</td>\n",
       "      <td>...</td>\n",
       "      <td>-0.006527</td>\n",
       "      <td>-0.006883</td>\n",
       "      <td>-0.004128</td>\n",
       "      <td>0.003237</td>\n",
       "      <td>0.010610</td>\n",
       "      <td>0.011521</td>\n",
       "      <td>0.005749</td>\n",
       "      <td>-0.001143</td>\n",
       "      <td>-0.004716</td>\n",
       "      <td>-0.004731</td>\n",
       "    </tr>\n",
       "    <tr>\n",
       "      <th>2</th>\n",
       "      <td>64.0</td>\n",
       "      <td>1.01</td>\n",
       "      <td>0.03</td>\n",
       "      <td>0.03</td>\n",
       "      <td>0.03</td>\n",
       "      <td>0.181</td>\n",
       "      <td>0.065</td>\n",
       "      <td>0.098840</td>\n",
       "      <td>0.003009</td>\n",
       "      <td>-0.012145</td>\n",
       "      <td>...</td>\n",
       "      <td>-0.008041</td>\n",
       "      <td>-0.002235</td>\n",
       "      <td>0.005958</td>\n",
       "      <td>0.014286</td>\n",
       "      <td>0.019315</td>\n",
       "      <td>0.017660</td>\n",
       "      <td>0.010270</td>\n",
       "      <td>0.001964</td>\n",
       "      <td>-0.003904</td>\n",
       "      <td>-0.007276</td>\n",
       "    </tr>\n",
       "    <tr>\n",
       "      <th>3</th>\n",
       "      <td>75.0</td>\n",
       "      <td>1.00</td>\n",
       "      <td>0.04</td>\n",
       "      <td>0.03</td>\n",
       "      <td>0.03</td>\n",
       "      <td>0.154</td>\n",
       "      <td>0.063</td>\n",
       "      <td>0.078532</td>\n",
       "      <td>0.009152</td>\n",
       "      <td>-0.088432</td>\n",
       "      <td>...</td>\n",
       "      <td>-0.000267</td>\n",
       "      <td>-0.000806</td>\n",
       "      <td>-0.001807</td>\n",
       "      <td>-0.002554</td>\n",
       "      <td>-0.001484</td>\n",
       "      <td>0.001162</td>\n",
       "      <td>0.002941</td>\n",
       "      <td>0.002429</td>\n",
       "      <td>0.000859</td>\n",
       "      <td>-0.000070</td>\n",
       "    </tr>\n",
       "    <tr>\n",
       "      <th>4</th>\n",
       "      <td>66.0</td>\n",
       "      <td>1.00</td>\n",
       "      <td>0.04</td>\n",
       "      <td>0.03</td>\n",
       "      <td>0.03</td>\n",
       "      <td>0.190</td>\n",
       "      <td>0.086</td>\n",
       "      <td>0.021135</td>\n",
       "      <td>0.002147</td>\n",
       "      <td>-0.005118</td>\n",
       "      <td>...</td>\n",
       "      <td>-0.051789</td>\n",
       "      <td>-0.049848</td>\n",
       "      <td>-0.037532</td>\n",
       "      <td>0.025213</td>\n",
       "      <td>0.129390</td>\n",
       "      <td>0.199013</td>\n",
       "      <td>0.174495</td>\n",
       "      <td>0.080129</td>\n",
       "      <td>-0.015372</td>\n",
       "      <td>-0.068213</td>\n",
       "    </tr>\n",
       "  </tbody>\n",
       "</table>\n",
       "<p>5 rows × 2017 columns</p>\n",
       "</div>"
      ],
      "text/plain": [
       "     HR    RR  R_wave_duration  P_wave_duration  T_wave_duration  PR_interval  \\\n",
       "0  64.0  1.00             0.03             0.02             0.03        0.187   \n",
       "1  47.0  1.02             0.10             0.03             0.04        0.186   \n",
       "2  64.0  1.01             0.03             0.03             0.03        0.181   \n",
       "3  75.0  1.00             0.04             0.03             0.03        0.154   \n",
       "4  66.0  1.00             0.04             0.03             0.03        0.190   \n",
       "\n",
       "   ST_interval    R_peak    P_peak    Q_peak  ...      1990      1991  \\\n",
       "0        0.061  0.074155  0.001282 -0.050321  ...  0.018197  0.024745   \n",
       "1        0.020  0.145161  0.001416 -0.056772  ... -0.006527 -0.006883   \n",
       "2        0.065  0.098840  0.003009 -0.012145  ... -0.008041 -0.002235   \n",
       "3        0.063  0.078532  0.009152 -0.088432  ... -0.000267 -0.000806   \n",
       "4        0.086  0.021135  0.002147 -0.005118  ... -0.051789 -0.049848   \n",
       "\n",
       "       1992      1993      1994      1995      1996      1997      1998  \\\n",
       "0  0.021644  0.012084 -0.004043 -0.017909 -0.021185 -0.017074 -0.011247   \n",
       "1 -0.004128  0.003237  0.010610  0.011521  0.005749 -0.001143 -0.004716   \n",
       "2  0.005958  0.014286  0.019315  0.017660  0.010270  0.001964 -0.003904   \n",
       "3 -0.001807 -0.002554 -0.001484  0.001162  0.002941  0.002429  0.000859   \n",
       "4 -0.037532  0.025213  0.129390  0.199013  0.174495  0.080129 -0.015372   \n",
       "\n",
       "       1999  \n",
       "0 -0.004914  \n",
       "1 -0.004731  \n",
       "2 -0.007276  \n",
       "3 -0.000070  \n",
       "4 -0.068213  \n",
       "\n",
       "[5 rows x 2017 columns]"
      ]
     },
     "metadata": {},
     "output_type": "display_data"
    },
    {
     "name": "stdout",
     "output_type": "stream",
     "text": [
      "\n",
      "\n",
      "data base information \n",
      "\n",
      "<class 'pandas.core.frame.DataFrame'>\n",
      "RangeIndex: 20000 entries, 0 to 19999\n",
      "Columns: 2017 entries, HR to 1999\n",
      "dtypes: float64(2014), int64(2), object(1)\n",
      "memory usage: 307.8+ MB\n"
     ]
    },
    {
     "data": {
      "text/plain": [
       "None"
      ]
     },
     "metadata": {},
     "output_type": "display_data"
    },
    {
     "name": "stdout",
     "output_type": "stream",
     "text": [
      "\n",
      "\n",
      "data base nan values\n"
     ]
    },
    {
     "data": {
      "text/plain": [
       "HR                  1\n",
       "RR                  1\n",
       "R_wave_duration     6\n",
       "P_wave_duration     6\n",
       "T_wave_duration    50\n",
       "                   ..\n",
       "1995                0\n",
       "1996                0\n",
       "1997                0\n",
       "1998                0\n",
       "1999                0\n",
       "Length: 2017, dtype: int64"
      ]
     },
     "metadata": {},
     "output_type": "display_data"
    },
    {
     "name": "stdout",
     "output_type": "stream",
     "text": [
      "\n",
      " database unique values for each column\n",
      "\n",
      "Axis\n"
     ]
    },
    {
     "data": {
      "text/plain": [
       "3"
      ]
     },
     "metadata": {},
     "output_type": "display_data"
    },
    {
     "data": {
      "text/plain": [
       "array(['Left Axis Deviation', 'Right Axis Deviation',\n",
       "       'Normal or Left Axis Deviation'], dtype=object)"
      ]
     },
     "metadata": {},
     "output_type": "display_data"
    }
   ],
   "source": [
    "#Lets check out the dataset first\n",
    "print('data base 5 first rows \\n')\n",
    "display(combined_df.head())\n",
    "print('\\n')\n",
    "print('data base information \\n')\n",
    "display(combined_df.info())\n",
    "print('\\n')\n",
    "print('data base nan values')\n",
    "display(combined_df.isna().sum())\n",
    "print('\\n database unique values for each column\\n')\n",
    "categorical_columns = combined_df.select_dtypes(include=['object']).columns.tolist()\n",
    "intcolumns=combined_df.select_dtypes(include=['float64','int64']).columns.tolist()\n",
    "for i in categorical_columns:\n",
    "    print(f'{i}')\n",
    "    display(combined_df[i].nunique())\n",
    "    display(combined_df[i].unique())"
   ]
  },
  {
   "cell_type": "code",
   "execution_count": 8,
   "id": "ef76d03e",
   "metadata": {
    "execution": {
     "iopub.execute_input": "2024-02-25T07:14:55.008233Z",
     "iopub.status.busy": "2024-02-25T07:14:55.007890Z",
     "iopub.status.idle": "2024-02-25T07:14:55.759977Z",
     "shell.execute_reply": "2024-02-25T07:14:55.758854Z"
    },
    "papermill": {
     "duration": 0.762744,
     "end_time": "2024-02-25T07:14:55.762392",
     "exception": false,
     "start_time": "2024-02-25T07:14:54.999648",
     "status": "completed"
    },
    "tags": []
   },
   "outputs": [
    {
     "name": "stdout",
     "output_type": "stream",
     "text": [
      "<class 'pandas.core.frame.DataFrame'>\n",
      "Index: 19860 entries, 0 to 19999\n",
      "Columns: 2019 entries, HR to Axis_Right Axis Deviation\n",
      "dtypes: float64(2019)\n",
      "memory usage: 306.1 MB\n"
     ]
    }
   ],
   "source": [
    "combined_df = pd.get_dummies(combined_df, columns=categorical_columns)\n",
    "combined_df = combined_df.astype(float)\n",
    "\n",
    "combined_df['weight'] = combined_df['weight'].fillna(combined_df['weight'].median())\n",
    "combined_df.dropna(inplace=True)\n",
    "combined_df.info()"
   ]
  },
  {
   "cell_type": "code",
   "execution_count": 9,
   "id": "a9a1d372",
   "metadata": {
    "execution": {
     "iopub.execute_input": "2024-02-25T07:14:55.778087Z",
     "iopub.status.busy": "2024-02-25T07:14:55.777769Z",
     "iopub.status.idle": "2024-02-25T07:15:10.265989Z",
     "shell.execute_reply": "2024-02-25T07:15:10.264880Z"
    },
    "papermill": {
     "duration": 14.49883,
     "end_time": "2024-02-25T07:15:10.268398",
     "exception": false,
     "start_time": "2024-02-25T07:14:55.769568",
     "status": "completed"
    },
    "tags": []
   },
   "outputs": [
    {
     "name": "stderr",
     "output_type": "stream",
     "text": [
      "2024-02-25 07:14:58.733007: E external/local_xla/xla/stream_executor/cuda/cuda_dnn.cc:9261] Unable to register cuDNN factory: Attempting to register factory for plugin cuDNN when one has already been registered\n",
      "2024-02-25 07:14:58.733124: E external/local_xla/xla/stream_executor/cuda/cuda_fft.cc:607] Unable to register cuFFT factory: Attempting to register factory for plugin cuFFT when one has already been registered\n",
      "2024-02-25 07:14:58.870695: E external/local_xla/xla/stream_executor/cuda/cuda_blas.cc:1515] Unable to register cuBLAS factory: Attempting to register factory for plugin cuBLAS when one has already been registered\n"
     ]
    }
   ],
   "source": [
    "from sklearn.preprocessing import StandardScaler, MinMaxScaler\n",
    "from sklearn.model_selection import train_test_split\n",
    "from keras.layers import Dense, Concatenate, Flatten\n",
    "\n",
    "# Assuming you have loaded your ECG data into the variable aVF\n",
    "# Reshape aVF to match the shape of the other features\n",
    "\n",
    "X=combined_df.drop(columns=['diagnostic_superclass','patient_id'])\n",
    "y=combined_df['diagnostic_superclass']\n",
    "# Split your data into training and testing sets\n",
    "\n",
    "\n",
    "X_train, X_test, y_train, y_test = train_test_split(X, y, test_size=0.2, random_state=42)\n",
    "\n",
    "# Standardize your features\n",
    "scaler = MinMaxScaler()\n",
    "X_train_scaled = scaler.fit_transform(X_train)\n",
    "X_test_scaled = scaler.transform(X_test)\n",
    "\n",
    "# smote=SMOTE(k_neighbors=50,random_state=42)\n",
    "\n",
    "# oversampled_x_train,oversampled_y_train=smote.fit_resample(X_train_scaled,y_train)\n"
   ]
  },
  {
   "cell_type": "code",
   "execution_count": 10,
   "id": "83b3a74b",
   "metadata": {
    "execution": {
     "iopub.execute_input": "2024-02-25T07:15:10.294678Z",
     "iopub.status.busy": "2024-02-25T07:15:10.294026Z",
     "iopub.status.idle": "2024-02-25T07:22:02.368266Z",
     "shell.execute_reply": "2024-02-25T07:22:02.367325Z"
    },
    "papermill": {
     "duration": 412.086266,
     "end_time": "2024-02-25T07:22:02.370804",
     "exception": false,
     "start_time": "2024-02-25T07:15:10.284538",
     "status": "completed"
    },
    "tags": []
   },
   "outputs": [
    {
     "name": "stderr",
     "output_type": "stream",
     "text": [
      "WARNING: All log messages before absl::InitializeLog() is called are written to STDERR\n",
      "I0000 00:00:1708845319.702722      69 device_compiler.h:186] Compiled cluster using XLA!  This line is logged at most once for the lifetime of the process.\n"
     ]
    }
   ],
   "source": [
    "from keras.layers import Conv1D, Conv2D,MaxPooling1D\n",
    "from keras.callbacks import EarlyStopping\n",
    "from keras.layers import Dense, Concatenate, Flatten\n",
    "from sklearn.metrics import confusion_matrix, accuracy_score,classification_report,roc_auc_score,precision_score ,f1_score\n",
    "from keras.models import Sequential\n",
    "from keras.layers import Dropout\n",
    "from keras.optimizers import Adam, SGD\n",
    "from keras.layers import BatchNormalization\n",
    "from sklearn.model_selection import StratifiedKFold\n",
    "from imblearn.over_sampling import SMOTE\n",
    "from keras.optimizers import Nadam\n",
    "from keras.callbacks import ReduceLROnPlateau\n",
    "\n",
    "# Initialize StratifiedKFold\n",
    "smote = SMOTE(k_neighbors=50, random_state=42)\n",
    "\n",
    "# Initialize lists to store results\n",
    "train_losses = []\n",
    "train_aucs = []\n",
    "val_losses = []\n",
    "val_aucs = []\n",
    "training_loss=[]\n",
    "validation_loss=[]\n",
    "\n",
    "# Reshape your data for convolutional layer (assuming your data is in the form of time series)\n",
    "X_train_reshaped = X_train_scaled.reshape(X_train_scaled.shape[0], X_train_scaled.shape[1], 1)\n",
    "X_test_reshaped = X_test_scaled.reshape(X_test_scaled.shape[0], X_test_scaled.shape[1], 1)\n",
    "\n",
    " #Define your CNN model\n",
    "model_CNN = Sequential([\n",
    "    Conv1D(filters=32, kernel_size=5, activation='relu', input_shape=(X_train_reshaped.shape[1], 1)),\n",
    "    MaxPooling1D(pool_size=2),\n",
    "    Conv1D(filters=64, kernel_size=3, activation='relu'),\n",
    "    MaxPooling1D(pool_size=2),\n",
    "    Flatten(),\n",
    "    Dense(64, activation='relu'),\n",
    "    BatchNormalization(),\n",
    "    Dropout(0.5),\n",
    "    Dense(32, activation='tanh'),\n",
    "    BatchNormalization(),\n",
    "    Dropout(0.5),\n",
    "    Dense(1, activation='sigmoid')\n",
    "])\n",
    "\n",
    "# Compile the Model\n",
    "model_CNN.compile(optimizer=Nadam(learning_rate=0.002), loss='binary_crossentropy', metrics=['AUC'])\n",
    "lr_scheduler = ReduceLROnPlateau(monitor='val_loss', factor=0.5, patience=3, min_lr=1e-6)\n",
    "early_stopping = EarlyStopping(monitor='val_loss', patience=7, restore_best_weights=True)\n",
    "\n",
    "n_splits = 10\n",
    "\n",
    "# Initialize StratifiedKFold\n",
    "skf = StratifiedKFold(n_splits=n_splits, shuffle=True, random_state=42)\n",
    "\n",
    "# Initialize lists to store results\n",
    "train_losses = []\n",
    "train_aucs = []\n",
    "val_losses = []\n",
    "val_aucs = []\n",
    "training_loss = []\n",
    "validation_loss = []\n",
    "\n",
    "for train_index, val_index in skf.split(X_train_reshaped, y_train):\n",
    "    X_train_fold, X_val_fold = X_train_reshaped[train_index], X_train_reshaped[val_index]\n",
    "    y_train_fold, y_val_fold = y_train.iloc[train_index], y_train.iloc[val_index]\n",
    "\n",
    "    # Apply SMOTE\n",
    "\n",
    "    # Train the Model\n",
    "    history = model_CNN.fit(X_train_fold, y_train_fold, epochs=1000, batch_size=32, validation_data=(X_val_fold, y_val_fold), verbose=0, callbacks=[lr_scheduler,early_stopping])\n",
    "\n",
    "    # Evaluate on training data\n",
    "    train_loss, train_auc = model_CNN.evaluate(X_train_fold, y_train_fold, verbose=0)\n",
    "    train_losses.append(train_loss)\n",
    "    train_aucs.append(train_auc)\n",
    "    training_loss.append(history.history['loss'])\n",
    "    validation_loss.append(history.history['val_loss'])\n",
    "\n",
    "    # Evaluate on validation data\n",
    "    val_loss, val_auc = model_CNN.evaluate(X_val_fold, y_val_fold, verbose=0)\n",
    "    val_losses.append(val_loss)\n",
    "    val_aucs.append(val_auc)\n",
    "    "
   ]
  },
  {
   "cell_type": "code",
   "execution_count": 11,
   "id": "c6189bd2",
   "metadata": {
    "execution": {
     "iopub.execute_input": "2024-02-25T07:22:02.387470Z",
     "iopub.status.busy": "2024-02-25T07:22:02.387187Z",
     "iopub.status.idle": "2024-02-25T07:22:02.393553Z",
     "shell.execute_reply": "2024-02-25T07:22:02.392657Z"
    },
    "papermill": {
     "duration": 0.017993,
     "end_time": "2024-02-25T07:22:02.396704",
     "exception": false,
     "start_time": "2024-02-25T07:22:02.378711",
     "status": "completed"
    },
    "tags": []
   },
   "outputs": [
    {
     "name": "stdout",
     "output_type": "stream",
     "text": [
      "Mean train loss: 0.5023 \n",
      "Mean train AUC: 0.8373 \n",
      "Mean validation loss: 0.5040\n",
      "Mean validation AUC: 0.8337 \n",
      "max validation AUC: 0.8720288872718811\n"
     ]
    }
   ],
   "source": [
    "# Calculate mean and standard deviation for metrics\n",
    "mean_train_loss = np.mean(train_losses)\n",
    "mean_train_auc = np.mean(train_aucs)\n",
    "mean_val_loss = np.mean(val_losses)\n",
    "mean_val_auc = np.mean(val_aucs)\n",
    "print(f'Mean train loss: {mean_train_loss:.4f} ')\n",
    "print(f'Mean train AUC: {mean_train_auc:.4f} ')\n",
    "print(f'Mean validation loss: {mean_val_loss:.4f}')\n",
    "print(f'Mean validation AUC: {mean_val_auc:.4f} ')\n",
    "print(f'max validation AUC: {np.max(val_aucs)}')"
   ]
  },
  {
   "cell_type": "code",
   "execution_count": 12,
   "id": "270cb9ce",
   "metadata": {
    "execution": {
     "iopub.execute_input": "2024-02-25T07:22:02.414149Z",
     "iopub.status.busy": "2024-02-25T07:22:02.413843Z",
     "iopub.status.idle": "2024-02-25T07:22:03.252302Z",
     "shell.execute_reply": "2024-02-25T07:22:03.251095Z"
    },
    "papermill": {
     "duration": 0.849815,
     "end_time": "2024-02-25T07:22:03.254666",
     "exception": false,
     "start_time": "2024-02-25T07:22:02.404851",
     "status": "completed"
    },
    "tags": []
   },
   "outputs": [
    {
     "name": "stdout",
     "output_type": "stream",
     "text": [
      "125/125 [==============================] - 0s 2ms/step\n",
      "0.7479493697899023\n",
      "Sensitivity (Recall): 0.7176781002638523\n",
      "Specificity: 0.6378091872791519\n",
      "Precision: 0.7263017356475301\n",
      "Accuracy: 0.6835347432024169\n",
      "F1 Score: 0.7219641672196416\n",
      "[[1083  615]\n",
      " [ 642 1632]]\n"
     ]
    }
   ],
   "source": [
    "from sklearn.metrics import confusion_matrix, accuracy_score,classification_report,roc_auc_score,precision_score ,f1_score,recall_score\n",
    "y_scores = model_CNN.predict(X_test_reshaped)  # Predict probabilities for the positive class\n",
    "roc=roc_auc_score(y_test,y_scores)\n",
    "print(roc)\n",
    "# Convert continuous scores to binary labels (example thresholding)\n",
    "threshold = 0.5\n",
    "y_pred_binary = np.where(y_scores >= threshold, 1, 0)\n",
    "\n",
    "# Ensure proper data types (convert to integers if necessary)\n",
    "test_y = np.array(y_test, dtype=int)\n",
    "y_pred_binary = np.array(y_pred_binary, dtype=int)\n",
    "\n",
    "# Calculate confusion matrix\n",
    "tn, fp, fn, tp = confusion_matrix(y_test, y_pred_binary).ravel()\n",
    "\n",
    "# Calculate sensitivity (recall), specificity, precision, and accuracy\n",
    "specificity = tn / (tn + fp)\n",
    "accuracy = (tp + tn) / (tp + tn + fp + fn)\n",
    "f1=f1_score(test_y,y_pred_binary)\n",
    "# Print the calculated metrics\n",
    "print(\"Sensitivity (Recall):\", recall_score(y_test,y_pred_binary))\n",
    "print(\"Specificity:\", specificity)\n",
    "print(\"Precision:\", precision_score(y_test,y_pred_binary))\n",
    "print(\"Accuracy:\", accuracy_score(y_test,y_pred_binary))\n",
    "print(\"F1 Score:\",f1)\n",
    "print(confusion_matrix(y_test,y_pred_binary))"
   ]
  },
  {
   "cell_type": "code",
   "execution_count": 13,
   "id": "c0d69950",
   "metadata": {
    "execution": {
     "iopub.execute_input": "2024-02-25T07:22:03.272415Z",
     "iopub.status.busy": "2024-02-25T07:22:03.272102Z",
     "iopub.status.idle": "2024-02-25T07:22:03.276739Z",
     "shell.execute_reply": "2024-02-25T07:22:03.275833Z"
    },
    "papermill": {
     "duration": 0.015752,
     "end_time": "2024-02-25T07:22:03.278750",
     "exception": false,
     "start_time": "2024-02-25T07:22:03.262998",
     "status": "completed"
    },
    "tags": []
   },
   "outputs": [],
   "source": [
    "combined_training_loss = np.concatenate(training_loss)\n",
    "combined_validation_loss = np.concatenate(validation_loss)\n"
   ]
  },
  {
   "cell_type": "code",
   "execution_count": 14,
   "id": "c017af5d",
   "metadata": {
    "execution": {
     "iopub.execute_input": "2024-02-25T07:22:03.296010Z",
     "iopub.status.busy": "2024-02-25T07:22:03.295686Z",
     "iopub.status.idle": "2024-02-25T07:22:03.579170Z",
     "shell.execute_reply": "2024-02-25T07:22:03.578212Z"
    },
    "papermill": {
     "duration": 0.294399,
     "end_time": "2024-02-25T07:22:03.581242",
     "exception": false,
     "start_time": "2024-02-25T07:22:03.286843",
     "status": "completed"
    },
    "tags": []
   },
   "outputs": [
    {
     "data": {
      "image/png": "[encoded data removed]",
      "text/plain": [
       "<Figure size 1000x600 with 1 Axes>"
      ]
     },
     "metadata": {},
     "output_type": "display_data"
    }
   ],
   "source": [
    "\n",
    "import matplotlib.pyplot as plt\n",
    "# Plot the combined training loss curve\n",
    "plt.figure(figsize=(10, 6))\n",
    "plt.plot(combined_training_loss, label='Combined Training Loss')\n",
    "plt.plot(combined_validation_loss, label='Combined Validation Loss')\n",
    "\n",
    "plt.title('Combined Training Loss Curve')\n",
    "plt.xlabel('Epoch')\n",
    "plt.ylabel('Loss')\n",
    "plt.legend()\n",
    "plt.show()"
   ]
  },
  {
   "cell_type": "code",
   "execution_count": 15,
   "id": "5f14068e",
   "metadata": {
    "execution": {
     "iopub.execute_input": "2024-02-25T07:22:03.600192Z",
     "iopub.status.busy": "2024-02-25T07:22:03.599860Z",
     "iopub.status.idle": "2024-02-25T07:22:04.388073Z",
     "shell.execute_reply": "2024-02-25T07:22:04.387141Z"
    },
    "papermill": {
     "duration": 0.800211,
     "end_time": "2024-02-25T07:22:04.390363",
     "exception": false,
     "start_time": "2024-02-25T07:22:03.590152",
     "status": "completed"
    },
    "tags": []
   },
   "outputs": [
    {
     "name": "stdout",
     "output_type": "stream",
     "text": [
      "125/125 [==============================] - 0s 2ms/step\n",
      "0.7479493697899023\n"
     ]
    },
    {
     "data": {
      "image/png": "[encoded data removed]",
      "text/plain": [
       "<Figure size 640x480 with 1 Axes>"
      ]
     },
     "metadata": {},
     "output_type": "display_data"
    }
   ],
   "source": [
    "from sklearn.metrics import precision_recall_curve\n",
    "\n",
    "# Assuming model is your trained neural network model and test_X is your test data\n",
    "y_scores = model_CNN.predict(X_test_reshaped)  # Predict probabilities for the positive class\n",
    "roc=roc_auc_score(y_test,y_scores)\n",
    "print(roc)\n",
    "# Calculate precision and recall\n",
    "precision, recall, thresholds = precision_recall_curve(y_test, y_scores)\n",
    "\n",
    "# Plot precision-recall curve\n",
    "plt.plot(thresholds, precision[:-1], \"b--\", label=\"Precision\", linewidth=2)\n",
    "plt.plot(thresholds, recall[:-1], \"g-\", label=\"Recall\", linewidth=2)\n",
    "plt.xlabel('Threshold')\n",
    "plt.ylabel('Value')\n",
    "plt.title('Precision-Recall for Neural Network')\n",
    "plt.legend()\n",
    "plt.grid(True)\n",
    "plt.show()\n"
   ]
  },
  {
   "cell_type": "code",
   "execution_count": 16,
   "id": "afe1a950",
   "metadata": {
    "execution": {
     "iopub.execute_input": "2024-02-25T07:22:04.411667Z",
     "iopub.status.busy": "2024-02-25T07:22:04.411404Z",
     "iopub.status.idle": "2024-02-25T07:22:04.416442Z",
     "shell.execute_reply": "2024-02-25T07:22:04.415626Z"
    },
    "papermill": {
     "duration": 0.017775,
     "end_time": "2024-02-25T07:22:04.418423",
     "exception": false,
     "start_time": "2024-02-25T07:22:04.400648",
     "status": "completed"
    },
    "tags": []
   },
   "outputs": [],
   "source": [
    "# from keras.layers import LSTM\n",
    "# # Build a neural network model with LSTM layers and dropout\n",
    "# X_train_reshaped = X_train_scaled.reshape(X_train_scaled.shape[0], X_train_scaled.shape[1], 1)\n",
    "# X_test_reshaped = X_test_scaled.reshape(X_test_scaled.shape[0], X_test_scaled.shape[1], 1)\n",
    "# # Build the model\n",
    "# model = Sequential()\n",
    "# model.add(LSTM(50, input_shape=(X_train_reshaped.shape[1], X_train_reshaped.shape[2]), activation='relu', return_sequences=True))\n",
    "# model.add(BatchNormalization())\n",
    "# model.add(Dropout(0.4))\n",
    "# model.add(Dense(50, activation='relu'))\n",
    "# model.add(Dropout(0.4))\n",
    "# model.add(Dense(25, activation='relu'))\n",
    "# # Adjust the output layer for binary classification\n",
    "# model.add(Dense(1, activation='sigmoid'))\n",
    "\n",
    "# # Compile the model\n",
    "# model.compile(optimizer=SGD(learning_rate=0.001), loss='binary_crossentropy', metrics=['accuracy'])\n",
    "\n",
    "# # Define early stopping callback\n",
    "# early_stopping = EarlyStopping(monitor='val_loss', patience=6, restore_best_weights=True)\n",
    "\n",
    "# # Split the data into training and validation sets\n",
    "# X_train, X_val, y_train, y_val = train_test_split(X_train_reshaped, y_train, test_size=0.2, random_state=42)\n",
    "\n",
    "# # Train the model\n",
    "# history = model.fit(X_train, y_train, epochs=50, batch_size=32, validation_data=(X_val, y_val), callbacks=[early_stopping])\n",
    "\n",
    "# # Evaluate the model\n",
    "# loss, auc = model.evaluate(X_test_reshaped, y_test)\n",
    "# print(f'Test Loss: {loss:.4f}')\n",
    "# print(f'Test AUC: {auc:.4f}')"
   ]
  }
 ],
 "metadata": {
  "kaggle": {
   "accelerator": "gpu",
   "dataSources": [
    {
     "datasetId": 4490019,
     "sourceId": 7693301,
     "sourceType": "datasetVersion"
    }
   ],
   "dockerImageVersionId": 30648,
   "isGpuEnabled": true,
   "isInternetEnabled": true,
   "language": "python",
   "sourceType": "notebook"
  },
  "kernelspec": {
   "display_name": "Python 3",
   "language": "python",
   "name": "python3"
  },
  "language_info": {
   "codemirror_mode": {
    "name": "ipython",
    "version": 3
   },
   "file_extension": ".py",
   "mimetype": "text/x-python",
   "name": "python",
   "nbconvert_exporter": "python",
   "pygments_lexer": "ipython3",
   "version": "3.10.13"
  },
  "papermill": {
   "default_parameters": {},
   "duration": 491.414909,
   "end_time": "2024-02-25T07:22:07.444107",
   "environment_variables": {},
   "exception": null,
   "input_path": "__notebook__.ipynb",
   "output_path": "__notebook__.ipynb",
   "parameters": {},
   "start_time": "2024-02-25T07:13:56.029198",
   "version": "2.5.0"
  }
 },
 "nbformat": 4,
 "nbformat_minor": 5
}
